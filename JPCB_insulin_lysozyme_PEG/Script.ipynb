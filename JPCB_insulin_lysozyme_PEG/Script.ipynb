{
 "cells": [
  {
   "cell_type": "markdown",
   "id": "edaa17cd-e494-4e37-853b-041d0413c7a4",
   "metadata": {},
   "source": [
    "# Get native contact list from crystal structure"
   ]
  },
  {
   "cell_type": "code",
   "execution_count": null,
   "id": "4123755e-d405-4859-9aa7-d7dfc04966af",
   "metadata": {},
   "outputs": [],
   "source": [
    "from Bio.PDB import PDBParser\n",
    "from Bio.PDB import NeighborSearch\n",
    "import numpy as np\n",
    "from Bio.PDB import Selection"
   ]
  },
  {
   "cell_type": "code",
   "execution_count": null,
   "id": "fea3c686-cc37-478e-8cc7-8bfbdd925168",
   "metadata": {},
   "outputs": [],
   "source": [
    "# calculate the distance and out put the atom pair (heavy atom and i-j>4(at least 3 reaidue away), 4.5Å)\n",
    "def get_distances(pdb_file):\n",
    "    parser = PDBParser()\n",
    "    pdb_structure = parser.get_structure(\"pdb_structure\", pdb_file)\n",
    "    model = pdb_structure[0]\n",
    "    atom_list = [atom for atom in Selection.unfold_entities(model, 'A') if atom.get_id()[0] != 'H']\n",
    "    distances = []\n",
    "    pairs_atom = []\n",
    "    for i in range(len(atom_list)):\n",
    "        for j in range(i+1, len(atom_list)):\n",
    "            if abs(atom_list[i].get_parent().get_id()[1] - atom_list[j].get_parent().get_id()[1]) < 4:\n",
    "                continue\n",
    "            distance = np.linalg.norm(atom_list[i].coord - atom_list[j].coord)\n",
    "            if distance >= 4.5:\n",
    "                continue\n",
    "            distances.append((distance, atom_list[i].get_serial_number(),atom_list[i], atom_list[j].get_serial_number(),atom_list[j]))\n",
    "            pairs_atom.append((atom_list[i].get_serial_number(),atom_list[j].get_serial_number(),distance))\n",
    "    return pairs_atom"
   ]
  },
  {
   "cell_type": "code",
   "execution_count": null,
   "id": "57b80c7f-2319-4972-907c-2508a7cfc93b",
   "metadata": {},
   "outputs": [],
   "source": [
    "Insulin_FNC = get_distances('./2g4m.pdb')"
   ]
  },
  {
   "cell_type": "code",
   "execution_count": null,
   "id": "3d39fbf1-6a91-4679-bf85-5a011c3072c8",
   "metadata": {},
   "outputs": [],
   "source": [
    "# adjust the decimal places\n",
    "Insulin_native_l = []\n",
    "for i in range (0,len(Insulin_FNC)):\n",
    "    Insulin_native_l.append(format(Insulin_FNC[i][2]/10,'.4f'))\n",
    "\n",
    "weight_Insulin = format(1/len(Insulin_FNC),'.6f')"
   ]
  },
  {
   "cell_type": "code",
   "execution_count": null,
   "id": "264a9139-0233-4b6c-a717-037f62ba7df7",
   "metadata": {},
   "outputs": [],
   "source": [
    "# generate plumed.dat file\n",
    "with open(\".//plumed_FNC.dat\",\"w\") as f:\n",
    " print(\"\"\"\n",
    "CONTACTMAP ...\"\"\",file=f)\n",
    " for i in range(0, len(Insulin_FNC)):\n",
    "    print(f\"ATOMS{i+1}={Insulin_FNC[i][0]},{Insulin_FNC[i][1]} SWITCH{i+1}={{Q R_0=0.01 BETA=50.0 LAMBDA=1.8 REF={Insulin_native_l[i]}}} WEIGHT{i+1}={weight_Insulin}\",file=f)\n",
    " print(\"\"\"LABEL=cmap\n",
    "SUM\n",
    "... CONTACTMAP\n",
    "\n",
    "PRINT ARG=* FILE=colvar STRIDE=1 \"\"\",file=f)"
   ]
  },
  {
   "cell_type": "markdown",
   "id": "49318116-8d56-47a1-9394-27af45b7bcdb",
   "metadata": {},
   "source": [
    "# Convert secondary structure data (from VMD timeline STRIDE) to dataframe for plot"
   ]
  },
  {
   "cell_type": "code",
   "execution_count": null,
   "id": "75ee4eeb-4cea-48e4-81c1-873857a0cfb5",
   "metadata": {},
   "outputs": [],
   "source": [
    "def load_and_process_SS_data(file_path):\n",
    "    # Load txt file\n",
    "    with open(file_path, 'r', encoding='utf8') as file:\n",
    "        lines = file.readlines()\n",
    "        \n",
    "    # Skip the first 9 rows\n",
    "    lines = lines[9:]\n",
    "    \n",
    "    # Convert into DataFrame\n",
    "    df = pd.DataFrame([line.split() for line in lines])\n",
    "    \n",
    "    # Import data into DataFrame and drop unnecessary data\n",
    "    df.columns = [\"residue#\", \"chain_identifier\", \"empty\", \"frame\", \"secondary_structure\"]\n",
    "    SS = df.drop(['chain_identifier', 'empty'], axis=1)\n",
    "    SS['residue#'] = pd.to_numeric(SS['residue#'])\n",
    "    \n",
    "    # Calculate start_residue and end_residue\n",
    "    start_residue = SS['residue#'].min()\n",
    "    end_residue = SS['residue#'].max()\n",
    "    \n",
    "    # Sort for secondary structure data\n",
    "    Lr = []\n",
    "    for i in range(start_residue, end_residue + 1):\n",
    "        Lr_temp = SS.loc[SS[\"residue#\"] == i]['secondary_structure'].reset_index(drop=True)\n",
    "        Lr.append(Lr_temp)\n",
    "\n",
    "    # Convert into DataFrame\n",
    "    ss = pd.DataFrame(Lr)\n",
    "    ss = ss.set_index(pd.Index(range(start_residue, end_residue + 1)))\n",
    "    \n",
    "    return ss"
   ]
  },
  {
   "cell_type": "code",
   "execution_count": null,
   "id": "d7ca73d2-69bc-442b-a6e0-d2b65d7d4f1d",
   "metadata": {},
   "outputs": [],
   "source": [
    "ss_INS  = load_and_process_SS_data('./INS_300K_rt1.txt')"
   ]
  },
  {
   "cell_type": "code",
   "execution_count": null,
   "id": "ca5b6cd7-4257-4680-aec9-0727d6da936f",
   "metadata": {},
   "outputs": [],
   "source": [
    "ss_dict={}\n",
    "def SimplifySecStructure(ssl):\n",
    "  \"\"\"\n",
    "  This function takes in a list ssl of standard dssp secondary structure letters (G,H,I,E,B,T,C,S)\n",
    "  and returns a simplified list where each element is assigned to the broader category of helix, beta or coil (H,E,C).\n",
    "  So it basically maps H to H; E to E; H,I,B,T,C and S to C.\n",
    "  \"\"\"\n",
    "  ss_dict={}\n",
    "  for el in ['H']:ss_dict[el]='H'\n",
    "  for el in ['E']:ss_dict[el]='E'\n",
    "  for el in ['T','C','S','I','G','B']:ss_dict[el]='C'  \n",
    "        \n",
    "  return [ss_dict[ss] for ss in ssl]"
   ]
  },
  {
   "cell_type": "code",
   "execution_count": null,
   "id": "395ae248-7f27-4a63-9749-3a7edcec5c8f",
   "metadata": {},
   "outputs": [],
   "source": [
    "def SimplifySecStructureList(ss_list):\n",
    "  \"\"\"\n",
    "  This function takes a list of lists of secondary structures as obtained from AnalyzeSecondaryStructure\n",
    "  and reassigns each element to the broader categories of Helix, Extended and Coil (see SimplifySecStructure)\n",
    "  Inputs:\n",
    "  ss_list: A list of lists of secondary structures as obtained from AnalyzeSecondaryStructure, see SecStrucColorMap.\n",
    "  Outpu:\n",
    "  ss_list: Simplified list of lists of secondary structures\n",
    "  \"\"\"\n",
    "  return [SimplifySecStructure(ssl) for ssl in ss_list]"
   ]
  },
  {
   "cell_type": "code",
   "execution_count": null,
   "id": "23d547c6-968f-4daa-9964-136af5828359",
   "metadata": {},
   "outputs": [],
   "source": [
    "# WT 300K\n",
    "ss_dict1 = []\n",
    "\n",
    "for i in range(0, 50001, 10):\n",
    "    ss_dict_temp2 = []\n",
    "    ss_dict_temp = ss_INS[i]\n",
    "    ss_dict_temp = SimplifySecStructureList(ss_dict_temp)\n",
    "    for sublist in ss_dict_temp:\n",
    "        for item in sublist:\n",
    "            ss_dict_temp2.append(item)\n",
    "    ss_dict1.append(ss_dict_temp2)\n",
    "\n",
    "for i in range(0, 5001):\n",
    "    for j in range(0, 52):  # Make sure that this range is appropriate\n",
    "        ss_dict1[i][j] = ss_label_mapping.get(ss_dict1[i][j], ss_dict1[i][j])\n",
    "\n",
    "ss_full = pd.DataFrame(ss_dict1)\n",
    "ss_full.index = range(0, 50001,10)\n",
    "ss_map2 = ss_full.transpose().to_numpy()"
   ]
  },
  {
   "cell_type": "code",
   "execution_count": null,
   "id": "9c651b2c-7546-4d8b-8a21-d8a906a18a3b",
   "metadata": {},
   "outputs": [],
   "source": [
    "fig,ax1=plt.subplots(1,figsize=(10,5),dpi=300)\n",
    "\n",
    "ax1.imshow(ss_map2,cmap = \"gnuplot2\",interpolation='nearest',aspect='auto')\n",
    "\n",
    "xtick_labels= [0,20,40,60,80,100] # manualy define the x tick labels\n",
    "xtick_positons = [0,1000,2000,3000,4000,5000] # position of the points\n",
    "ax1.set_xticks(xtick_positons)\n",
    "ax1.set_yticks(ytick_positons)\n",
    "ax1.set_xticklabels(xtick_labels,fontsize=28)\n",
    "ax1.set_yticklabels(ytick_labels,fontsize=28)\n",
    "ax1.tick_params(direction=\"in\")\n",
    "ax1.set_ylabel('Residue Index', fontsize=34)\n",
    "ax1.set_xlabel('Time(ns)', fontsize=34)\n",
    "for axis in ['top', 'bottom', 'left', 'right']:\n",
    "    ax1.spines[axis].set_linewidth(1.5)"
   ]
  }
 ],
 "metadata": {
  "kernelspec": {
   "display_name": "UFRC Python-3.10",
   "language": "python",
   "name": "python3-3.10-ufrc"
  },
  "language_info": {
   "codemirror_mode": {
    "name": "ipython",
    "version": 3
   },
   "file_extension": ".py",
   "mimetype": "text/x-python",
   "name": "python",
   "nbconvert_exporter": "python",
   "pygments_lexer": "ipython3",
   "version": "3.10.8"
  }
 },
 "nbformat": 4,
 "nbformat_minor": 5
}
